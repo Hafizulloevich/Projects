{
  "cells": [
    {
      "cell_type": "code",
      "source": [
        "import requests\n",
        "import os\n",
        "from bs4 import BeautifulSoup\n",
        "from urllib.parse import urljoin\n",
        "from google.colab import files\n",
        "\n",
        "# Set headers to mimic a browser request\n",
        "headers = {\n",
        "    'User-Agent': 'Mozilla/5.0 (Windows NT 10.0; Win64; x64) AppleWebKit/537.36 (KHTML, like Gecko) Chrome/91.0.4472.124 Safari/537.36'\n",
        "}\n",
        "\n",
        "# Downloads the URL.\n",
        "url = 'https://www.shutterstock.com/search/angelina-jolie'\n",
        "res = requests.get(url, headers=headers)\n",
        "res.raise_for_status()\n",
        "\n",
        "# Create the folder in path.\n",
        "os.makedirs('angelina2', exist_ok=True)\n",
        "\n",
        "# Find the images.\n",
        "soup = BeautifulSoup(res.text, 'html.parser')\n",
        "all_posts = soup.select('img[src]')\n",
        "\n",
        "# Counter to give unique names to images\n",
        "image_counter = 110\n",
        "\n",
        "\n",
        "for post in all_posts:\n",
        "    src = post.get('src')\n",
        "    if not src:\n",
        "        print('Could not find image.')\n",
        "    else:\n",
        "        # Convert relative URLs to absolute URLs\n",
        "        img_url = urljoin(url, src)\n",
        "\n",
        "        # Download the images.\n",
        "        print(f'Downloading {img_url} to folder...')\n",
        "        img_res = requests.get(img_url, headers=headers)\n",
        "        img_res.raise_for_status()\n",
        "\n",
        "        # Save the images to cersibon folder with unique names.\n",
        "        image_filename = os.path.join('angelina2', f'angelina_jolie_{image_counter}.jpg')\n",
        "        with open(image_filename, 'wb') as imageFile:\n",
        "            for chunk in img_res.iter_content(100000):\n",
        "                imageFile.write(chunk)\n",
        "\n",
        "        image_counter += 1\n",
        "\n",
        "print('Done.')\n",
        "\n"
      ],
      "metadata": {
        "colab": {
          "base_uri": "https://localhost:8080/"
        },
        "id": "CFn781aTalEr",
        "outputId": "9ef63f8c-74dc-4ec4-ebb8-b7c2c8ce05e1"
      },
      "execution_count": 48,
      "outputs": [
        {
          "output_type": "stream",
          "name": "stdout",
          "text": [
            "Downloading https://image.shutterstock.com/image-photo/angelina-jolie-world-premiere-disneys-100nw-1518891416.jpg to folder...\n",
            "Downloading https://image.shutterstock.com/image-photo/london-uk-july-30-2019-100nw-1466942936.jpg to folder...\n",
            "Downloading https://image.shutterstock.com/image-photo/angelina-jolie-brad-pitt-attend-100nw-180321413.jpg to folder...\n",
            "Downloading https://image.shutterstock.com/image-photo/los-angeles-sep-30-pax-100nw-1525909577.jpg to folder...\n",
            "Downloading https://image.shutterstock.com/image-illustration/paint-abstract-texture-watercolor-flowers-100nw-2351669081.jpg to folder...\n",
            "Downloading https://image.shutterstock.com/image-photo/close-image-attractive-fit-woman-100nw-679609972.jpg to folder...\n",
            "Downloading https://image.shutterstock.com/image-photo/unhappy-middle-aged-european-lady-100nw-2212378645.jpg to folder...\n",
            "Downloading https://image.shutterstock.com/image-photo/portrait-italian-singer-angelina-mango-100nw-2371018133.jpg to folder...\n",
            "Downloading https://image.shutterstock.com/image-photo/angelina-jolie-23rd-annual-critics-100nw-1045534666.jpg to folder...\n",
            "Downloading https://image.shutterstock.com/image-photo/brad-pitt-angelina-jolie-arriving-100nw-140952109.jpg to folder...\n",
            "Downloading https://image.shutterstock.com/image-photo/london-united-kingdom-july-16-100nw-1708705669.jpg to folder...\n",
            "Downloading https://image.shutterstock.com/image-photo/chris-evans-attends-apple-tv-100nw-2290951433.jpg to folder...\n",
            "Downloading https://image.shutterstock.com/image-photo/cannes-france-may-16-angelina-100nw-212688547.jpg to folder...\n",
            "Downloading https://image.shutterstock.com/image-photo/berlin-germany-february-11-angelina-100nw-99813752.jpg to folder...\n",
            "Downloading https://image.shutterstock.com/image-vector/october-05-2016-vector-illustration-100nw-493869412.jpg to folder...\n",
            "Downloading https://www.shutterstock.com/image-photo/angelina-jolie-2012-golden-globe-260nw-2193227055.jpg to folder...\n",
            "Downloading https://www.shutterstock.com/image-photo/london-united-kingdom-february-18-260nw-1722559270.jpg to folder...\n",
            "Downloading https://www.shutterstock.com/image-photo/london-united-kingdom-february-18-260nw-1722561397.jpg to folder...\n",
            "Downloading https://www.shutterstock.com/image-photo/angelina-jolie-2012-golden-globe-260nw-2193227093.jpg to folder...\n",
            "Downloading https://www.shutterstock.com/image-photo/los-angeles-sep-30-angelina-260nw-1586030233.jpg to folder...\n",
            "Downloading https://www.shutterstock.com/image-photo/los-angeles-usa-september-30-260nw-1518941081.jpg to folder...\n",
            "Downloading https://www.shutterstock.com/image-photo/los-angeles-sep-30-pax-260nw-1525909580.jpg to folder...\n",
            "Downloading https://www.shutterstock.com/image-photo/los-angeles-usa-september-30-260nw-1518941090.jpg to folder...\n",
            "Downloading https://www.shutterstock.com/image-photo/angelina-jolie-23rd-annual-critics-260nw-1045534666.jpg to folder...\n",
            "Downloading https://www.shutterstock.com/image-photo/los-angeles-sep-30-pax-260nw-1525909577.jpg to folder...\n",
            "Downloading https://www.shutterstock.com/image-photo/los-angeles-jul-21-angelina-260nw-2022299330.jpg to folder...\n",
            "Downloading https://www.shutterstock.com/image-photo/us-actress-angelina-jolie-poses-260nw-180321404.jpg to folder...\n",
            "Downloading https://www.shutterstock.com/image-photo/los-angeles-jul-21-angelina-260nw-2022299342.jpg to folder...\n",
            "Downloading https://www.shutterstock.com/image-photo/angelina-jolie-world-premiere-disneys-260nw-1518891416.jpg to folder...\n",
            "Downloading https://www.shutterstock.com/image-photo/los-angeles-usa-september-30-260nw-1518941072.jpg to folder...\n",
            "Downloading https://www.shutterstock.com/image-photo/angelina-jolie-knox-leon-zahara-260nw-1336191743.jpg to folder...\n",
            "Downloading https://www.shutterstock.com/image-photo/london-united-kingdom-february-18-260nw-1722563395.jpg to folder...\n",
            "Downloading https://www.shutterstock.com/image-photo/los-angeles-jul-21-angelina-260nw-2022299345.jpg to folder...\n",
            "Downloading https://www.shutterstock.com/image-photo/angelina-jolie-23rd-annual-critics-260nw-792020941.jpg to folder...\n",
            "Downloading https://www.shutterstock.com/image-photo/los-angeles-jan-11-angelina-260nw-793566007.jpg to folder...\n",
            "Done.\n"
          ]
        }
      ]
    },
    {
      "cell_type": "code",
      "source": [
        "# Compress the folder into a zip file\n",
        "import shutil\n",
        "shutil.make_archive('angelina_jolie2', 'zip', 'angelina2')\n",
        "\n",
        "# Download the zip file to your local machine\n",
        "files.download('angelina_jolie2.zip')\n",
        "\n"
      ],
      "metadata": {
        "colab": {
          "base_uri": "https://localhost:8080/",
          "height": 17
        },
        "id": "bUZNygVEa0mC",
        "outputId": "db9330ea-952c-4ac9-ba5a-87bf03dd2bd4"
      },
      "execution_count": 49,
      "outputs": [
        {
          "output_type": "display_data",
          "data": {
            "text/plain": [
              "<IPython.core.display.Javascript object>"
            ],
            "application/javascript": [
              "\n",
              "    async function download(id, filename, size) {\n",
              "      if (!google.colab.kernel.accessAllowed) {\n",
              "        return;\n",
              "      }\n",
              "      const div = document.createElement('div');\n",
              "      const label = document.createElement('label');\n",
              "      label.textContent = `Downloading \"${filename}\": `;\n",
              "      div.appendChild(label);\n",
              "      const progress = document.createElement('progress');\n",
              "      progress.max = size;\n",
              "      div.appendChild(progress);\n",
              "      document.body.appendChild(div);\n",
              "\n",
              "      const buffers = [];\n",
              "      let downloaded = 0;\n",
              "\n",
              "      const channel = await google.colab.kernel.comms.open(id);\n",
              "      // Send a message to notify the kernel that we're ready.\n",
              "      channel.send({})\n",
              "\n",
              "      for await (const message of channel.messages) {\n",
              "        // Send a message to notify the kernel that we're ready.\n",
              "        channel.send({})\n",
              "        if (message.buffers) {\n",
              "          for (const buffer of message.buffers) {\n",
              "            buffers.push(buffer);\n",
              "            downloaded += buffer.byteLength;\n",
              "            progress.value = downloaded;\n",
              "          }\n",
              "        }\n",
              "      }\n",
              "      const blob = new Blob(buffers, {type: 'application/binary'});\n",
              "      const a = document.createElement('a');\n",
              "      a.href = window.URL.createObjectURL(blob);\n",
              "      a.download = filename;\n",
              "      div.appendChild(a);\n",
              "      a.click();\n",
              "      div.remove();\n",
              "    }\n",
              "  "
            ]
          },
          "metadata": {}
        },
        {
          "output_type": "display_data",
          "data": {
            "text/plain": [
              "<IPython.core.display.Javascript object>"
            ],
            "application/javascript": [
              "download(\"download_b32e0435-b966-4d56-b504-277959fb8b58\", \"angelina_jolie2.zip\", 454394)"
            ]
          },
          "metadata": {}
        }
      ]
    },
    {
      "cell_type": "code",
      "source": [],
      "metadata": {
        "id": "iRbI1w9jbuvv"
      },
      "execution_count": null,
      "outputs": []
    }
  ],
  "metadata": {
    "colab": {
      "provenance": []
    },
    "kernelspec": {
      "display_name": "Python 3",
      "name": "python3"
    },
    "language_info": {
      "name": "python"
    }
  },
  "nbformat": 4,
  "nbformat_minor": 0
}